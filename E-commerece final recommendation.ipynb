{
 "cells": [
  {
   "cell_type": "markdown",
   "id": "33695feb",
   "metadata": {},
   "source": [
    "\n",
    "# Recommendation system for e-commerce businesses\n",
    "A well developed recommendation system will help businesses improve their shopper's experience on website and result in better customer acquisition and retention.\n",
    "\n",
    "The recommendation system, I have designed below is based on the journey of a new customer from the time he/she lands on the business’s website for the first time to when he/she makes repeat purchases.\n",
    "\n",
    "The recommendation system is designed in 3 parts based on the business context:\n",
    "\n",
    "Recommendation system part I: Product pupularity based system targetted at new customers\n",
    "\n",
    "Recommendation system part II: Model-based collaborative filtering system based on customer's purchase history and ratings provided by other users who bought items similar items\n",
    "\n",
    "Recommendation system part III: When a business is setting up its e-commerce website for the first time withou any product rating\n",
    "\n",
    "When a new customer without any previous purchase history visits the e-commerce website for the first time, he/she is recommended the most popular products sold on the company's website. Once, he/she makes a purchase, the recommendation system updates and recommends other products based on the purchase history and ratings provided by other users on the website. The latter part is done using collaborative filtering techniques."
   ]
  },
  {
   "cell_type": "markdown",
   "id": "c1b9a41f",
   "metadata": {},
   "source": [
    "## Recommendation System - Part I\n",
    "Product popularity based recommendation system targeted at new customers\n",
    "Popularity based are a great strategy to target the new customers with the most popular products sold on a business's website and is very useful to cold start a recommendation engine."
   ]
  },
  {
   "cell_type": "code",
   "execution_count": 1,
   "id": "b070375d",
   "metadata": {},
   "outputs": [],
   "source": [
    "import numpy as np\n",
    "import pandas as pd\n",
    "import matplotlib.pyplot as plt\n",
    "\n",
    "# %matplotlib inline\n",
    "plt.style.use(\"ggplot\")\n",
    "\n",
    "import sklearn\n",
    "from sklearn.decomposition import TruncatedSVD"
   ]
  },
  {
   "cell_type": "code",
   "execution_count": 2,
   "id": "a5bfb0ff",
   "metadata": {},
   "outputs": [
    {
     "data": {
      "text/html": [
       "<div>\n",
       "<style scoped>\n",
       "    .dataframe tbody tr th:only-of-type {\n",
       "        vertical-align: middle;\n",
       "    }\n",
       "\n",
       "    .dataframe tbody tr th {\n",
       "        vertical-align: top;\n",
       "    }\n",
       "\n",
       "    .dataframe thead th {\n",
       "        text-align: right;\n",
       "    }\n",
       "</style>\n",
       "<table border=\"1\" class=\"dataframe\">\n",
       "  <thead>\n",
       "    <tr style=\"text-align: right;\">\n",
       "      <th></th>\n",
       "      <th>customer_id</th>\n",
       "      <th>product_id</th>\n",
       "      <th>productname</th>\n",
       "      <th>product_type</th>\n",
       "      <th>product_description</th>\n",
       "      <th>ratings</th>\n",
       "      <th>timestamp</th>\n",
       "    </tr>\n",
       "  </thead>\n",
       "  <tbody>\n",
       "    <tr>\n",
       "      <th>0</th>\n",
       "      <td>74.6.40.81</td>\n",
       "      <td>4883749797993</td>\n",
       "      <td>Infant Boys Mint Sweater Vest Set</td>\n",
       "      <td>Sweaters</td>\n",
       "      <td>&lt;p&gt;Soon to be a family favorite! It will make ...</td>\n",
       "      <td>5.0</td>\n",
       "      <td>1404518400</td>\n",
       "    </tr>\n",
       "    <tr>\n",
       "      <th>1</th>\n",
       "      <td>183.182.87.129</td>\n",
       "      <td>6664046379113</td>\n",
       "      <td>Baby Boys Holiday Sweater Romper</td>\n",
       "      <td>Playsuit</td>\n",
       "      <td>&lt;p&gt;How perfect is this for all your upcoming H...</td>\n",
       "      <td>1.0</td>\n",
       "      <td>1383177600</td>\n",
       "    </tr>\n",
       "    <tr>\n",
       "      <th>2</th>\n",
       "      <td>74.6.40.81</td>\n",
       "      <td>4883744391273</td>\n",
       "      <td>Boys Dino Camo Knit Shirt</td>\n",
       "      <td>Button Down Shirt</td>\n",
       "      <td>&lt;p&gt;Add a little extra fun to your little guy's...</td>\n",
       "      <td>1.0</td>\n",
       "      <td>1383177600</td>\n",
       "    </tr>\n",
       "    <tr>\n",
       "      <th>3</th>\n",
       "      <td>74.6.40.81</td>\n",
       "      <td>4180856209513</td>\n",
       "      <td>Infant Boy White Poplin Button-down</td>\n",
       "      <td>Button Down Shirt</td>\n",
       "      <td>&lt;p&gt;For the more formal events he has this fall...</td>\n",
       "      <td>1.0</td>\n",
       "      <td>1384992000</td>\n",
       "    </tr>\n",
       "    <tr>\n",
       "      <th>4</th>\n",
       "      <td>114.119.156.23</td>\n",
       "      <td>4883744784489</td>\n",
       "      <td>Boys Surfboards Graphic Tee Shirt</td>\n",
       "      <td>Tee Shirts</td>\n",
       "      <td>&lt;p&gt;Surfs up! He will be so ready to hit the wa...</td>\n",
       "      <td>1.0</td>\n",
       "      <td>1384992000</td>\n",
       "    </tr>\n",
       "    <tr>\n",
       "      <th>...</th>\n",
       "      <td>...</td>\n",
       "      <td>...</td>\n",
       "      <td>...</td>\n",
       "      <td>...</td>\n",
       "      <td>...</td>\n",
       "      <td>...</td>\n",
       "      <td>...</td>\n",
       "    </tr>\n",
       "    <tr>\n",
       "      <th>196</th>\n",
       "      <td>66.249.66.138</td>\n",
       "      <td>4180865056873</td>\n",
       "      <td>Infant Boy Grey Chambray Button-down</td>\n",
       "      <td>Button Down Shirt</td>\n",
       "      <td>&lt;p&gt;For the more formal events he has this fall...</td>\n",
       "      <td>2.0</td>\n",
       "      <td>1402704000</td>\n",
       "    </tr>\n",
       "    <tr>\n",
       "      <th>197</th>\n",
       "      <td>66.249.66.146</td>\n",
       "      <td>4794022428777</td>\n",
       "      <td>Girls Shimmer Jacket</td>\n",
       "      <td>Jackets</td>\n",
       "      <td>&lt;p&gt;She'll be the talk of the playground when s...</td>\n",
       "      <td>5.0</td>\n",
       "      <td>1403740800</td>\n",
       "    </tr>\n",
       "    <tr>\n",
       "      <th>198</th>\n",
       "      <td>66.249.66.148</td>\n",
       "      <td>4180865056873</td>\n",
       "      <td>Infant Boy Grey Chambray Button-down</td>\n",
       "      <td>Button Down Shirt</td>\n",
       "      <td>&lt;p&gt;For the more formal events he has this fall...</td>\n",
       "      <td>4.0</td>\n",
       "      <td>1367798400</td>\n",
       "    </tr>\n",
       "    <tr>\n",
       "      <th>199</th>\n",
       "      <td>17.121.113.148</td>\n",
       "      <td>4883749929065</td>\n",
       "      <td>Boys Navy Sweater Vest Set</td>\n",
       "      <td>Sweaters</td>\n",
       "      <td>&lt;p&gt;Soon to be a family favorite! It will make ...</td>\n",
       "      <td>3.0</td>\n",
       "      <td>1395705600</td>\n",
       "    </tr>\n",
       "    <tr>\n",
       "      <th>200</th>\n",
       "      <td>66.249.66.152</td>\n",
       "      <td>4858839662697</td>\n",
       "      <td>Peek-Through‚Ñ¢ Masks 3 Pack (Ages 4-12 Years)...</td>\n",
       "      <td>Peek Through Masks</td>\n",
       "      <td>&lt;p&gt;3-Pack of 100% two-ply woven cotton Face Ma...</td>\n",
       "      <td>3.0</td>\n",
       "      <td>1313798400</td>\n",
       "    </tr>\n",
       "  </tbody>\n",
       "</table>\n",
       "<p>201 rows × 7 columns</p>\n",
       "</div>"
      ],
      "text/plain": [
       "        customer_id     product_id  \\\n",
       "0        74.6.40.81  4883749797993   \n",
       "1    183.182.87.129  6664046379113   \n",
       "2        74.6.40.81  4883744391273   \n",
       "3        74.6.40.81  4180856209513   \n",
       "4    114.119.156.23  4883744784489   \n",
       "..              ...            ...   \n",
       "196   66.249.66.138  4180865056873   \n",
       "197   66.249.66.146  4794022428777   \n",
       "198   66.249.66.148  4180865056873   \n",
       "199  17.121.113.148  4883749929065   \n",
       "200   66.249.66.152  4858839662697   \n",
       "\n",
       "                                           productname        product_type  \\\n",
       "0                    Infant Boys Mint Sweater Vest Set            Sweaters   \n",
       "1                     Baby Boys Holiday Sweater Romper            Playsuit   \n",
       "2                            Boys Dino Camo Knit Shirt   Button Down Shirt   \n",
       "3                  Infant Boy White Poplin Button-down   Button Down Shirt   \n",
       "4                    Boys Surfboards Graphic Tee Shirt          Tee Shirts   \n",
       "..                                                 ...                 ...   \n",
       "196               Infant Boy Grey Chambray Button-down   Button Down Shirt   \n",
       "197                               Girls Shimmer Jacket             Jackets   \n",
       "198               Infant Boy Grey Chambray Button-down   Button Down Shirt   \n",
       "199                         Boys Navy Sweater Vest Set            Sweaters   \n",
       "200  Peek-Through‚Ñ¢ Masks 3 Pack (Ages 4-12 Years)...  Peek Through Masks   \n",
       "\n",
       "                                   product_description  ratings   timestamp  \n",
       "0    <p>Soon to be a family favorite! It will make ...      5.0  1404518400  \n",
       "1    <p>How perfect is this for all your upcoming H...      1.0  1383177600  \n",
       "2    <p>Add a little extra fun to your little guy's...      1.0  1383177600  \n",
       "3    <p>For the more formal events he has this fall...      1.0  1384992000  \n",
       "4    <p>Surfs up! He will be so ready to hit the wa...      1.0  1384992000  \n",
       "..                                                 ...      ...         ...  \n",
       "196  <p>For the more formal events he has this fall...      2.0  1402704000  \n",
       "197  <p>She'll be the talk of the playground when s...      5.0  1403740800  \n",
       "198  <p>For the more formal events he has this fall...      4.0  1367798400  \n",
       "199  <p>Soon to be a family favorite! It will make ...      3.0  1395705600  \n",
       "200  <p>3-Pack of 100% two-ply woven cotton Face Ma...      3.0  1313798400  \n",
       "\n",
       "[201 rows x 7 columns]"
      ]
     },
     "execution_count": 2,
     "metadata": {},
     "output_type": "execute_result"
    }
   ],
   "source": [
    "data = pd.read_excel(r'/Users/chiragsinghchaudhary/Downloads/Wiser_site_data.xlsx')\n",
    "data"
   ]
  },
  {
   "cell_type": "code",
   "execution_count": 3,
   "id": "d2b2db1f",
   "metadata": {},
   "outputs": [
    {
     "data": {
      "text/html": [
       "<div>\n",
       "<style scoped>\n",
       "    .dataframe tbody tr th:only-of-type {\n",
       "        vertical-align: middle;\n",
       "    }\n",
       "\n",
       "    .dataframe tbody tr th {\n",
       "        vertical-align: top;\n",
       "    }\n",
       "\n",
       "    .dataframe thead th {\n",
       "        text-align: right;\n",
       "    }\n",
       "</style>\n",
       "<table border=\"1\" class=\"dataframe\">\n",
       "  <thead>\n",
       "    <tr style=\"text-align: right;\">\n",
       "      <th></th>\n",
       "      <th>ratings</th>\n",
       "    </tr>\n",
       "    <tr>\n",
       "      <th>product_id</th>\n",
       "      <th></th>\n",
       "    </tr>\n",
       "  </thead>\n",
       "  <tbody>\n",
       "    <tr>\n",
       "      <th>4768013484137</th>\n",
       "      <td>5</td>\n",
       "    </tr>\n",
       "    <tr>\n",
       "      <th>6565937873001</th>\n",
       "      <td>4</td>\n",
       "    </tr>\n",
       "    <tr>\n",
       "      <th>4834730180713</th>\n",
       "      <td>3</td>\n",
       "    </tr>\n",
       "    <tr>\n",
       "      <th>2389889351785</th>\n",
       "      <td>3</td>\n",
       "    </tr>\n",
       "    <tr>\n",
       "      <th>4883749797993</th>\n",
       "      <td>3</td>\n",
       "    </tr>\n",
       "    <tr>\n",
       "      <th>4794022428777</th>\n",
       "      <td>3</td>\n",
       "    </tr>\n",
       "    <tr>\n",
       "      <th>4768013746281</th>\n",
       "      <td>3</td>\n",
       "    </tr>\n",
       "    <tr>\n",
       "      <th>4180865056873</th>\n",
       "      <td>3</td>\n",
       "    </tr>\n",
       "    <tr>\n",
       "      <th>4779064131689</th>\n",
       "      <td>3</td>\n",
       "    </tr>\n",
       "    <tr>\n",
       "      <th>4779064328297</th>\n",
       "      <td>2</td>\n",
       "    </tr>\n",
       "  </tbody>\n",
       "</table>\n",
       "</div>"
      ],
      "text/plain": [
       "               ratings\n",
       "product_id            \n",
       "4768013484137        5\n",
       "6565937873001        4\n",
       "4834730180713        3\n",
       "2389889351785        3\n",
       "4883749797993        3\n",
       "4794022428777        3\n",
       "4768013746281        3\n",
       "4180865056873        3\n",
       "4779064131689        3\n",
       "4779064328297        2"
      ]
     },
     "execution_count": 3,
     "metadata": {},
     "output_type": "execute_result"
    }
   ],
   "source": [
    "popular_products = pd.DataFrame(data.groupby('product_id')['ratings'].count())\n",
    "most_popular = popular_products.sort_values('ratings', ascending=False)\n",
    "most_popular.head(10)"
   ]
  },
  {
   "cell_type": "code",
   "execution_count": 4,
   "id": "06c45324",
   "metadata": {},
   "outputs": [
    {
     "data": {
      "text/plain": [
       "<AxesSubplot:xlabel='product_id'>"
      ]
     },
     "execution_count": 4,
     "metadata": {},
     "output_type": "execute_result"
    },
    {
     "data": {
      "image/png": "[encoded data removed]",
      "text/plain": [
       "<Figure size 432x288 with 1 Axes>"
      ]
     },
     "metadata": {},
     "output_type": "display_data"
    }
   ],
   "source": [
    "most_popular.head(30).plot(kind = \"bar\")"
   ]
  },
  {
   "cell_type": "markdown",
   "id": "d5e57a05",
   "metadata": {},
   "source": [
    "Analysis:\n",
    "\n",
    "The above graph gives us the most popular products (arranged in descending order) sold by the business.\n",
    "\n",
    "For eaxmple, product, ID # B001MA0QY2 has sales of over 5, the next most popular product, ID # B0009V1YR8 has sales of 3, etc."
   ]
  },
  {
   "cell_type": "markdown",
   "id": "83e262de",
   "metadata": {},
   "source": [
    "## Recommendation System - Part II\n",
    "Model-based collaborative filtering system\n",
    "\n",
    "Recommend items to users based on purchase history and similarity of ratings provided by other users who bought items to that of a particular customer.\n",
    "\n",
    "A model based collaborative filtering technique is closen here as it helps in making predictinfg products for a particular user by identifying patterns based on preferences from multiple user data."
   ]
  },
  {
   "cell_type": "markdown",
   "id": "1c1f99ed",
   "metadata": {},
   "source": [
    "### Utility Matrix based on products sold and user reviews\n",
    "Utility Matrix\n",
    "\n",
    "An utlity matrix is consists of all possible user-item preferences (ratings) details represented as a matrix. The utility matrix is sparce as none of the users would buy all teh items in the list, hence, most of the values are unknown."
   ]
  },
  {
   "cell_type": "code",
   "execution_count": 5,
   "id": "aa2cbcfb",
   "metadata": {},
   "outputs": [],
   "source": [
    "# Ratings\n",
    "\n",
    "data1 = data"
   ]
  },
  {
   "cell_type": "code",
   "execution_count": 6,
   "id": "eb66b94f",
   "metadata": {},
   "outputs": [
    {
     "data": {
      "text/html": [
       "<div>\n",
       "<style scoped>\n",
       "    .dataframe tbody tr th:only-of-type {\n",
       "        vertical-align: middle;\n",
       "    }\n",
       "\n",
       "    .dataframe tbody tr th {\n",
       "        vertical-align: top;\n",
       "    }\n",
       "\n",
       "    .dataframe thead th {\n",
       "        text-align: right;\n",
       "    }\n",
       "</style>\n",
       "<table border=\"1\" class=\"dataframe\">\n",
       "  <thead>\n",
       "    <tr style=\"text-align: right;\">\n",
       "      <th>product_id</th>\n",
       "      <th>9345140739</th>\n",
       "      <th>9345147971</th>\n",
       "      <th>9345151427</th>\n",
       "      <th>464744939551</th>\n",
       "      <th>2357789491305</th>\n",
       "      <th>2357789556841</th>\n",
       "      <th>2357789687913</th>\n",
       "      <th>2389875982441</th>\n",
       "      <th>2389889351785</th>\n",
       "      <th>2389889450089</th>\n",
       "      <th>...</th>\n",
       "      <th>6664046411881</th>\n",
       "      <th>6664046444649</th>\n",
       "      <th>6664046641257</th>\n",
       "      <th>6664046837865</th>\n",
       "      <th>6679553638505</th>\n",
       "      <th>6679554162793</th>\n",
       "      <th>6679554490473</th>\n",
       "      <th>6721055752297</th>\n",
       "      <th>6725915705449</th>\n",
       "      <th>6725915869289</th>\n",
       "    </tr>\n",
       "    <tr>\n",
       "      <th>customer_id</th>\n",
       "      <th></th>\n",
       "      <th></th>\n",
       "      <th></th>\n",
       "      <th></th>\n",
       "      <th></th>\n",
       "      <th></th>\n",
       "      <th></th>\n",
       "      <th></th>\n",
       "      <th></th>\n",
       "      <th></th>\n",
       "      <th></th>\n",
       "      <th></th>\n",
       "      <th></th>\n",
       "      <th></th>\n",
       "      <th></th>\n",
       "      <th></th>\n",
       "      <th></th>\n",
       "      <th></th>\n",
       "      <th></th>\n",
       "      <th></th>\n",
       "      <th></th>\n",
       "    </tr>\n",
       "  </thead>\n",
       "  <tbody>\n",
       "    <tr>\n",
       "      <th>100.35.196.205</th>\n",
       "      <td>0</td>\n",
       "      <td>0</td>\n",
       "      <td>0</td>\n",
       "      <td>0</td>\n",
       "      <td>0</td>\n",
       "      <td>0</td>\n",
       "      <td>0</td>\n",
       "      <td>0</td>\n",
       "      <td>0</td>\n",
       "      <td>0</td>\n",
       "      <td>...</td>\n",
       "      <td>0</td>\n",
       "      <td>0</td>\n",
       "      <td>0</td>\n",
       "      <td>0</td>\n",
       "      <td>0</td>\n",
       "      <td>0</td>\n",
       "      <td>0</td>\n",
       "      <td>0</td>\n",
       "      <td>0</td>\n",
       "      <td>0</td>\n",
       "    </tr>\n",
       "    <tr>\n",
       "      <th>107.77.224.224</th>\n",
       "      <td>0</td>\n",
       "      <td>0</td>\n",
       "      <td>0</td>\n",
       "      <td>0</td>\n",
       "      <td>0</td>\n",
       "      <td>0</td>\n",
       "      <td>0</td>\n",
       "      <td>0</td>\n",
       "      <td>0</td>\n",
       "      <td>0</td>\n",
       "      <td>...</td>\n",
       "      <td>0</td>\n",
       "      <td>0</td>\n",
       "      <td>0</td>\n",
       "      <td>0</td>\n",
       "      <td>0</td>\n",
       "      <td>0</td>\n",
       "      <td>0</td>\n",
       "      <td>0</td>\n",
       "      <td>0</td>\n",
       "      <td>0</td>\n",
       "    </tr>\n",
       "    <tr>\n",
       "      <th>107.77.241.52</th>\n",
       "      <td>0</td>\n",
       "      <td>0</td>\n",
       "      <td>0</td>\n",
       "      <td>0</td>\n",
       "      <td>0</td>\n",
       "      <td>0</td>\n",
       "      <td>0</td>\n",
       "      <td>0</td>\n",
       "      <td>0</td>\n",
       "      <td>0</td>\n",
       "      <td>...</td>\n",
       "      <td>0</td>\n",
       "      <td>0</td>\n",
       "      <td>0</td>\n",
       "      <td>0</td>\n",
       "      <td>0</td>\n",
       "      <td>0</td>\n",
       "      <td>0</td>\n",
       "      <td>0</td>\n",
       "      <td>0</td>\n",
       "      <td>0</td>\n",
       "    </tr>\n",
       "    <tr>\n",
       "      <th>108.54.113.139</th>\n",
       "      <td>0</td>\n",
       "      <td>0</td>\n",
       "      <td>0</td>\n",
       "      <td>0</td>\n",
       "      <td>0</td>\n",
       "      <td>0</td>\n",
       "      <td>0</td>\n",
       "      <td>0</td>\n",
       "      <td>0</td>\n",
       "      <td>0</td>\n",
       "      <td>...</td>\n",
       "      <td>0</td>\n",
       "      <td>0</td>\n",
       "      <td>0</td>\n",
       "      <td>0</td>\n",
       "      <td>0</td>\n",
       "      <td>0</td>\n",
       "      <td>0</td>\n",
       "      <td>0</td>\n",
       "      <td>0</td>\n",
       "      <td>0</td>\n",
       "    </tr>\n",
       "    <tr>\n",
       "      <th>114.119.155.239</th>\n",
       "      <td>0</td>\n",
       "      <td>0</td>\n",
       "      <td>0</td>\n",
       "      <td>0</td>\n",
       "      <td>0</td>\n",
       "      <td>0</td>\n",
       "      <td>0</td>\n",
       "      <td>0</td>\n",
       "      <td>0</td>\n",
       "      <td>0</td>\n",
       "      <td>...</td>\n",
       "      <td>0</td>\n",
       "      <td>0</td>\n",
       "      <td>0</td>\n",
       "      <td>0</td>\n",
       "      <td>0</td>\n",
       "      <td>0</td>\n",
       "      <td>0</td>\n",
       "      <td>0</td>\n",
       "      <td>0</td>\n",
       "      <td>0</td>\n",
       "    </tr>\n",
       "  </tbody>\n",
       "</table>\n",
       "<p>5 rows × 148 columns</p>\n",
       "</div>"
      ],
      "text/plain": [
       "product_id       9345140739     9345147971     9345151427     464744939551   \\\n",
       "customer_id                                                                   \n",
       "100.35.196.205               0              0              0              0   \n",
       "107.77.224.224               0              0              0              0   \n",
       "107.77.241.52                0              0              0              0   \n",
       "108.54.113.139               0              0              0              0   \n",
       "114.119.155.239              0              0              0              0   \n",
       "\n",
       "product_id       2357789491305  2357789556841  2357789687913  2389875982441  \\\n",
       "customer_id                                                                   \n",
       "100.35.196.205               0              0              0              0   \n",
       "107.77.224.224               0              0              0              0   \n",
       "107.77.241.52                0              0              0              0   \n",
       "108.54.113.139               0              0              0              0   \n",
       "114.119.155.239              0              0              0              0   \n",
       "\n",
       "product_id       2389889351785  2389889450089  ...  6664046411881  \\\n",
       "customer_id                                    ...                  \n",
       "100.35.196.205               0              0  ...              0   \n",
       "107.77.224.224               0              0  ...              0   \n",
       "107.77.241.52                0              0  ...              0   \n",
       "108.54.113.139               0              0  ...              0   \n",
       "114.119.155.239              0              0  ...              0   \n",
       "\n",
       "product_id       6664046444649  6664046641257  6664046837865  6679553638505  \\\n",
       "customer_id                                                                   \n",
       "100.35.196.205               0              0              0              0   \n",
       "107.77.224.224               0              0              0              0   \n",
       "107.77.241.52                0              0              0              0   \n",
       "108.54.113.139               0              0              0              0   \n",
       "114.119.155.239              0              0              0              0   \n",
       "\n",
       "product_id       6679554162793  6679554490473  6721055752297  6725915705449  \\\n",
       "customer_id                                                                   \n",
       "100.35.196.205               0              0              0              0   \n",
       "107.77.224.224               0              0              0              0   \n",
       "107.77.241.52                0              0              0              0   \n",
       "108.54.113.139               0              0              0              0   \n",
       "114.119.155.239              0              0              0              0   \n",
       "\n",
       "product_id       6725915869289  \n",
       "customer_id                     \n",
       "100.35.196.205               0  \n",
       "107.77.224.224               0  \n",
       "107.77.241.52                0  \n",
       "108.54.113.139               0  \n",
       "114.119.155.239              0  \n",
       "\n",
       "[5 rows x 148 columns]"
      ]
     },
     "execution_count": 6,
     "metadata": {},
     "output_type": "execute_result"
    }
   ],
   "source": [
    "ratings_utility_matrix = data1.pivot_table(values='ratings', index='customer_id', columns='product_id', fill_value=0)\n",
    "ratings_utility_matrix.head()"
   ]
  },
  {
   "cell_type": "markdown",
   "id": "6ea1ca88",
   "metadata": {},
   "source": [
    "As expected, the utility matrix obtaned above is sparce, I have filled up the unknown values wth 0."
   ]
  },
  {
   "cell_type": "code",
   "execution_count": 7,
   "id": "521f0219",
   "metadata": {},
   "outputs": [
    {
     "data": {
      "text/plain": [
       "(76, 148)"
      ]
     },
     "execution_count": 7,
     "metadata": {},
     "output_type": "execute_result"
    }
   ],
   "source": [
    "ratings_utility_matrix.shape"
   ]
  },
  {
   "cell_type": "markdown",
   "id": "ecb89cba",
   "metadata": {},
   "source": [
    "Transposing the matrix"
   ]
  },
  {
   "cell_type": "code",
   "execution_count": 8,
   "id": "2d156354",
   "metadata": {},
   "outputs": [
    {
     "data": {
      "text/html": [
       "<div>\n",
       "<style scoped>\n",
       "    .dataframe tbody tr th:only-of-type {\n",
       "        vertical-align: middle;\n",
       "    }\n",
       "\n",
       "    .dataframe tbody tr th {\n",
       "        vertical-align: top;\n",
       "    }\n",
       "\n",
       "    .dataframe thead th {\n",
       "        text-align: right;\n",
       "    }\n",
       "</style>\n",
       "<table border=\"1\" class=\"dataframe\">\n",
       "  <thead>\n",
       "    <tr style=\"text-align: right;\">\n",
       "      <th>customer_id</th>\n",
       "      <th>100.35.196.205</th>\n",
       "      <th>107.77.224.224</th>\n",
       "      <th>107.77.241.52</th>\n",
       "      <th>108.54.113.139</th>\n",
       "      <th>114.119.155.239</th>\n",
       "      <th>114.119.156.120</th>\n",
       "      <th>114.119.156.23</th>\n",
       "      <th>114.119.157.250</th>\n",
       "      <th>168.119.65.45</th>\n",
       "      <th>168.119.68.240</th>\n",
       "      <th>...</th>\n",
       "      <th>69.114.208.229</th>\n",
       "      <th>72.139.200.67</th>\n",
       "      <th>73.181.253.160</th>\n",
       "      <th>73.49.234.86</th>\n",
       "      <th>74.6.40.81</th>\n",
       "      <th>74.75.45.210</th>\n",
       "      <th>76.102.115.251</th>\n",
       "      <th>76.24.91.0</th>\n",
       "      <th>76.91.10.51</th>\n",
       "      <th>80.174.244.240</th>\n",
       "    </tr>\n",
       "    <tr>\n",
       "      <th>product_id</th>\n",
       "      <th></th>\n",
       "      <th></th>\n",
       "      <th></th>\n",
       "      <th></th>\n",
       "      <th></th>\n",
       "      <th></th>\n",
       "      <th></th>\n",
       "      <th></th>\n",
       "      <th></th>\n",
       "      <th></th>\n",
       "      <th></th>\n",
       "      <th></th>\n",
       "      <th></th>\n",
       "      <th></th>\n",
       "      <th></th>\n",
       "      <th></th>\n",
       "      <th></th>\n",
       "      <th></th>\n",
       "      <th></th>\n",
       "      <th></th>\n",
       "      <th></th>\n",
       "    </tr>\n",
       "  </thead>\n",
       "  <tbody>\n",
       "    <tr>\n",
       "      <th>9345140739</th>\n",
       "      <td>0.0</td>\n",
       "      <td>0.0</td>\n",
       "      <td>0.0</td>\n",
       "      <td>0.0</td>\n",
       "      <td>0.0</td>\n",
       "      <td>0.0</td>\n",
       "      <td>0.0</td>\n",
       "      <td>0.0</td>\n",
       "      <td>0.0</td>\n",
       "      <td>0.0</td>\n",
       "      <td>...</td>\n",
       "      <td>0.0</td>\n",
       "      <td>0.0</td>\n",
       "      <td>0.0</td>\n",
       "      <td>0.0</td>\n",
       "      <td>0.0</td>\n",
       "      <td>0.0</td>\n",
       "      <td>0.0</td>\n",
       "      <td>0.0</td>\n",
       "      <td>0.0</td>\n",
       "      <td>0.0</td>\n",
       "    </tr>\n",
       "    <tr>\n",
       "      <th>9345147971</th>\n",
       "      <td>0.0</td>\n",
       "      <td>0.0</td>\n",
       "      <td>0.0</td>\n",
       "      <td>0.0</td>\n",
       "      <td>0.0</td>\n",
       "      <td>0.0</td>\n",
       "      <td>0.0</td>\n",
       "      <td>0.0</td>\n",
       "      <td>0.0</td>\n",
       "      <td>0.0</td>\n",
       "      <td>...</td>\n",
       "      <td>0.0</td>\n",
       "      <td>0.0</td>\n",
       "      <td>0.0</td>\n",
       "      <td>0.0</td>\n",
       "      <td>0.0</td>\n",
       "      <td>0.0</td>\n",
       "      <td>0.0</td>\n",
       "      <td>0.0</td>\n",
       "      <td>0.0</td>\n",
       "      <td>0.0</td>\n",
       "    </tr>\n",
       "    <tr>\n",
       "      <th>9345151427</th>\n",
       "      <td>0.0</td>\n",
       "      <td>0.0</td>\n",
       "      <td>0.0</td>\n",
       "      <td>0.0</td>\n",
       "      <td>0.0</td>\n",
       "      <td>0.0</td>\n",
       "      <td>0.0</td>\n",
       "      <td>0.0</td>\n",
       "      <td>0.0</td>\n",
       "      <td>0.0</td>\n",
       "      <td>...</td>\n",
       "      <td>0.0</td>\n",
       "      <td>0.0</td>\n",
       "      <td>0.0</td>\n",
       "      <td>0.0</td>\n",
       "      <td>0.0</td>\n",
       "      <td>0.0</td>\n",
       "      <td>0.0</td>\n",
       "      <td>0.0</td>\n",
       "      <td>0.0</td>\n",
       "      <td>0.0</td>\n",
       "    </tr>\n",
       "    <tr>\n",
       "      <th>464744939551</th>\n",
       "      <td>0.0</td>\n",
       "      <td>0.0</td>\n",
       "      <td>0.0</td>\n",
       "      <td>0.0</td>\n",
       "      <td>0.0</td>\n",
       "      <td>0.0</td>\n",
       "      <td>0.0</td>\n",
       "      <td>0.0</td>\n",
       "      <td>0.0</td>\n",
       "      <td>0.0</td>\n",
       "      <td>...</td>\n",
       "      <td>0.0</td>\n",
       "      <td>0.0</td>\n",
       "      <td>0.0</td>\n",
       "      <td>0.0</td>\n",
       "      <td>0.0</td>\n",
       "      <td>0.0</td>\n",
       "      <td>0.0</td>\n",
       "      <td>0.0</td>\n",
       "      <td>0.0</td>\n",
       "      <td>0.0</td>\n",
       "    </tr>\n",
       "    <tr>\n",
       "      <th>2357789491305</th>\n",
       "      <td>0.0</td>\n",
       "      <td>0.0</td>\n",
       "      <td>0.0</td>\n",
       "      <td>0.0</td>\n",
       "      <td>0.0</td>\n",
       "      <td>0.0</td>\n",
       "      <td>0.0</td>\n",
       "      <td>0.0</td>\n",
       "      <td>0.0</td>\n",
       "      <td>0.0</td>\n",
       "      <td>...</td>\n",
       "      <td>0.0</td>\n",
       "      <td>0.0</td>\n",
       "      <td>0.0</td>\n",
       "      <td>0.0</td>\n",
       "      <td>0.0</td>\n",
       "      <td>0.0</td>\n",
       "      <td>0.0</td>\n",
       "      <td>0.0</td>\n",
       "      <td>0.0</td>\n",
       "      <td>0.0</td>\n",
       "    </tr>\n",
       "  </tbody>\n",
       "</table>\n",
       "<p>5 rows × 76 columns</p>\n",
       "</div>"
      ],
      "text/plain": [
       "customer_id    100.35.196.205  107.77.224.224  107.77.241.52  108.54.113.139  \\\n",
       "product_id                                                                     \n",
       "9345140739                0.0             0.0            0.0             0.0   \n",
       "9345147971                0.0             0.0            0.0             0.0   \n",
       "9345151427                0.0             0.0            0.0             0.0   \n",
       "464744939551              0.0             0.0            0.0             0.0   \n",
       "2357789491305             0.0             0.0            0.0             0.0   \n",
       "\n",
       "customer_id    114.119.155.239  114.119.156.120  114.119.156.23  \\\n",
       "product_id                                                        \n",
       "9345140739                 0.0              0.0             0.0   \n",
       "9345147971                 0.0              0.0             0.0   \n",
       "9345151427                 0.0              0.0             0.0   \n",
       "464744939551               0.0              0.0             0.0   \n",
       "2357789491305              0.0              0.0             0.0   \n",
       "\n",
       "customer_id    114.119.157.250  168.119.65.45  168.119.68.240  ...  \\\n",
       "product_id                                                     ...   \n",
       "9345140739                 0.0            0.0             0.0  ...   \n",
       "9345147971                 0.0            0.0             0.0  ...   \n",
       "9345151427                 0.0            0.0             0.0  ...   \n",
       "464744939551               0.0            0.0             0.0  ...   \n",
       "2357789491305              0.0            0.0             0.0  ...   \n",
       "\n",
       "customer_id    69.114.208.229  72.139.200.67  73.181.253.160  73.49.234.86  \\\n",
       "product_id                                                                   \n",
       "9345140739                0.0            0.0             0.0           0.0   \n",
       "9345147971                0.0            0.0             0.0           0.0   \n",
       "9345151427                0.0            0.0             0.0           0.0   \n",
       "464744939551              0.0            0.0             0.0           0.0   \n",
       "2357789491305             0.0            0.0             0.0           0.0   \n",
       "\n",
       "customer_id    74.6.40.81  74.75.45.210  76.102.115.251  76.24.91.0  \\\n",
       "product_id                                                            \n",
       "9345140739            0.0           0.0             0.0         0.0   \n",
       "9345147971            0.0           0.0             0.0         0.0   \n",
       "9345151427            0.0           0.0             0.0         0.0   \n",
       "464744939551          0.0           0.0             0.0         0.0   \n",
       "2357789491305         0.0           0.0             0.0         0.0   \n",
       "\n",
       "customer_id    76.91.10.51  80.174.244.240  \n",
       "product_id                                  \n",
       "9345140739             0.0             0.0  \n",
       "9345147971             0.0             0.0  \n",
       "9345151427             0.0             0.0  \n",
       "464744939551           0.0             0.0  \n",
       "2357789491305          0.0             0.0  \n",
       "\n",
       "[5 rows x 76 columns]"
      ]
     },
     "execution_count": 8,
     "metadata": {},
     "output_type": "execute_result"
    }
   ],
   "source": [
    "X = ratings_utility_matrix.T\n",
    "X.head()"
   ]
  },
  {
   "cell_type": "code",
   "execution_count": 9,
   "id": "2c95c95d",
   "metadata": {},
   "outputs": [
    {
     "data": {
      "text/plain": [
       "(148, 76)"
      ]
     },
     "execution_count": 9,
     "metadata": {},
     "output_type": "execute_result"
    }
   ],
   "source": [
    "X.shape"
   ]
  },
  {
   "cell_type": "code",
   "execution_count": 10,
   "id": "ad38f4b8",
   "metadata": {},
   "outputs": [],
   "source": [
    "X1 = X"
   ]
  },
  {
   "cell_type": "markdown",
   "id": "d83bb0dc",
   "metadata": {},
   "source": [
    "## Decomposing the Matrix"
   ]
  },
  {
   "cell_type": "code",
   "execution_count": 11,
   "id": "39b9e14e",
   "metadata": {},
   "outputs": [
    {
     "data": {
      "text/plain": [
       "(148, 10)"
      ]
     },
     "execution_count": 11,
     "metadata": {},
     "output_type": "execute_result"
    }
   ],
   "source": [
    "SVD = TruncatedSVD(n_components=10)\n",
    "decomposed_matrix = SVD.fit_transform(X)\n",
    "decomposed_matrix.shape"
   ]
  },
  {
   "cell_type": "code",
   "execution_count": 12,
   "id": "b63a197a",
   "metadata": {},
   "outputs": [
    {
     "data": {
      "text/plain": [
       "(148, 148)"
      ]
     },
     "execution_count": 12,
     "metadata": {},
     "output_type": "execute_result"
    }
   ],
   "source": [
    "correlation_matrix = np.corrcoef(decomposed_matrix)\n",
    "correlation_matrix.shape"
   ]
  },
  {
   "cell_type": "markdown",
   "id": "2183219d",
   "metadata": {},
   "source": [
    "correlation_matrix"
   ]
  },
  {
   "cell_type": "markdown",
   "id": "9324bc63",
   "metadata": {},
   "source": [
    "## Isolating Product ID # 4794023215209 from the Correlation Matrix"
   ]
  },
  {
   "cell_type": "markdown",
   "id": "37c027bf",
   "metadata": {},
   "source": [
    "Assuming the customer buys Product ID # 4794023215209 (randomly chosen)"
   ]
  },
  {
   "cell_type": "code",
   "execution_count": 13,
   "id": "2171ef50",
   "metadata": {
    "scrolled": true
   },
   "outputs": [
    {
     "data": {
      "text/plain": [
       "4794023215209"
      ]
     },
     "execution_count": 13,
     "metadata": {},
     "output_type": "execute_result"
    }
   ],
   "source": [
    "X.index[59]"
   ]
  },
  {
   "cell_type": "markdown",
   "id": "c8e49be0",
   "metadata": {},
   "source": [
    "Index # of product ID purchased by customer"
   ]
  },
  {
   "cell_type": "code",
   "execution_count": 14,
   "id": "7bfb8beb",
   "metadata": {},
   "outputs": [
    {
     "data": {
      "text/plain": [
       "59"
      ]
     },
     "execution_count": 14,
     "metadata": {},
     "output_type": "execute_result"
    }
   ],
   "source": [
    "i = 4794023215209\n",
    "\n",
    "product_names = list(X.index)\n",
    "product_ID = product_names.index(i)\n",
    "product_ID"
   ]
  },
  {
   "cell_type": "markdown",
   "id": "852e978b",
   "metadata": {},
   "source": [
    "Correlation for all items with the item purchased by this customer based on items rated by other customers people who bought the same product"
   ]
  },
  {
   "cell_type": "code",
   "execution_count": 15,
   "id": "9224d4cc",
   "metadata": {},
   "outputs": [
    {
     "data": {
      "text/plain": [
       "(148,)"
      ]
     },
     "execution_count": 15,
     "metadata": {},
     "output_type": "execute_result"
    }
   ],
   "source": [
    "correlation_product_ID = correlation_matrix[product_ID]\n",
    "correlation_product_ID.shape"
   ]
  },
  {
   "cell_type": "markdown",
   "id": "f742a15f",
   "metadata": {},
   "source": [
    "#### Recommending top 10 highly correlated products in sequence"
   ]
  },
  {
   "cell_type": "code",
   "execution_count": 16,
   "id": "be00e610",
   "metadata": {},
   "outputs": [
    {
     "data": {
      "text/plain": [
       "[4652167921769,\n",
       " 4794021970025,\n",
       " 4794022789225,\n",
       " 4794023444585,\n",
       " 4851497336937,\n",
       " 4870127288425]"
      ]
     },
     "execution_count": 16,
     "metadata": {},
     "output_type": "execute_result"
    }
   ],
   "source": [
    "Recommend = list(X.index[correlation_product_ID > 0.90])\n",
    "\n",
    "# Removes the item already bought by the customer\n",
    "Recommend.remove(i) \n",
    "\n",
    "Recommend[0:9]"
   ]
  },
  {
   "cell_type": "markdown",
   "id": "1bb7e79e",
   "metadata": {},
   "source": [
    "Product Id #\n",
    "\n",
    "Here are the top 10 products to be displayed by the recommendation system to the above customer based on the purchase history of other customers in the website.\n",
    "\n"
   ]
  },
  {
   "cell_type": "markdown",
   "id": "89e6548b",
   "metadata": {},
   "source": [
    "# Recommendation System - Part III\n",
    "For a business without any user-item purchase history, a search engine based recommendation system can be designed for users. The product recommendations can be based on textual clustering analysis given in product description."
   ]
  },
  {
   "cell_type": "code",
   "execution_count": 17,
   "id": "1b60d1c0",
   "metadata": {},
   "outputs": [],
   "source": [
    "# Importing libraries\n",
    "\n",
    "from sklearn.feature_extraction.text import TfidfVectorizer, CountVectorizer\n",
    "from sklearn.neighbors import NearestNeighbors\n",
    "from sklearn.cluster import KMeans\n",
    "from sklearn.metrics import adjusted_rand_score"
   ]
  },
  {
   "cell_type": "markdown",
   "id": "90f95dc8",
   "metadata": {},
   "source": [
    "## Item to item based recommendation system based on product description\n",
    "\n",
    "Applicable when business is setting up its E-commerce website for the first time"
   ]
  },
  {
   "cell_type": "code",
   "execution_count": 18,
   "id": "2cdc83a3",
   "metadata": {},
   "outputs": [
    {
     "data": {
      "text/html": [
       "<div>\n",
       "<style scoped>\n",
       "    .dataframe tbody tr th:only-of-type {\n",
       "        vertical-align: middle;\n",
       "    }\n",
       "\n",
       "    .dataframe tbody tr th {\n",
       "        vertical-align: top;\n",
       "    }\n",
       "\n",
       "    .dataframe thead th {\n",
       "        text-align: right;\n",
       "    }\n",
       "</style>\n",
       "<table border=\"1\" class=\"dataframe\">\n",
       "  <thead>\n",
       "    <tr style=\"text-align: right;\">\n",
       "      <th></th>\n",
       "      <th>product_id</th>\n",
       "      <th>product_description</th>\n",
       "    </tr>\n",
       "  </thead>\n",
       "  <tbody>\n",
       "    <tr>\n",
       "      <th>0</th>\n",
       "      <td>4883749797993</td>\n",
       "      <td>&lt;p&gt;Soon to be a family favorite! It will make ...</td>\n",
       "    </tr>\n",
       "    <tr>\n",
       "      <th>1</th>\n",
       "      <td>6664046379113</td>\n",
       "      <td>&lt;p&gt;How perfect is this for all your upcoming H...</td>\n",
       "    </tr>\n",
       "    <tr>\n",
       "      <th>2</th>\n",
       "      <td>4883744391273</td>\n",
       "      <td>&lt;p&gt;Add a little extra fun to your little guy's...</td>\n",
       "    </tr>\n",
       "    <tr>\n",
       "      <th>3</th>\n",
       "      <td>4180856209513</td>\n",
       "      <td>&lt;p&gt;For the more formal events he has this fall...</td>\n",
       "    </tr>\n",
       "    <tr>\n",
       "      <th>4</th>\n",
       "      <td>4883744784489</td>\n",
       "      <td>&lt;p&gt;Surfs up! He will be so ready to hit the wa...</td>\n",
       "    </tr>\n",
       "    <tr>\n",
       "      <th>...</th>\n",
       "      <td>...</td>\n",
       "      <td>...</td>\n",
       "    </tr>\n",
       "    <tr>\n",
       "      <th>196</th>\n",
       "      <td>4180865056873</td>\n",
       "      <td>&lt;p&gt;For the more formal events he has this fall...</td>\n",
       "    </tr>\n",
       "    <tr>\n",
       "      <th>197</th>\n",
       "      <td>4794022428777</td>\n",
       "      <td>&lt;p&gt;She'll be the talk of the playground when s...</td>\n",
       "    </tr>\n",
       "    <tr>\n",
       "      <th>198</th>\n",
       "      <td>4180865056873</td>\n",
       "      <td>&lt;p&gt;For the more formal events he has this fall...</td>\n",
       "    </tr>\n",
       "    <tr>\n",
       "      <th>199</th>\n",
       "      <td>4883749929065</td>\n",
       "      <td>&lt;p&gt;Soon to be a family favorite! It will make ...</td>\n",
       "    </tr>\n",
       "    <tr>\n",
       "      <th>200</th>\n",
       "      <td>4858839662697</td>\n",
       "      <td>&lt;p&gt;3-Pack of 100% two-ply woven cotton Face Ma...</td>\n",
       "    </tr>\n",
       "  </tbody>\n",
       "</table>\n",
       "<p>201 rows × 2 columns</p>\n",
       "</div>"
      ],
      "text/plain": [
       "        product_id                                product_description\n",
       "0    4883749797993  <p>Soon to be a family favorite! It will make ...\n",
       "1    6664046379113  <p>How perfect is this for all your upcoming H...\n",
       "2    4883744391273  <p>Add a little extra fun to your little guy's...\n",
       "3    4180856209513  <p>For the more formal events he has this fall...\n",
       "4    4883744784489  <p>Surfs up! He will be so ready to hit the wa...\n",
       "..             ...                                                ...\n",
       "196  4180865056873  <p>For the more formal events he has this fall...\n",
       "197  4794022428777  <p>She'll be the talk of the playground when s...\n",
       "198  4180865056873  <p>For the more formal events he has this fall...\n",
       "199  4883749929065  <p>Soon to be a family favorite! It will make ...\n",
       "200  4858839662697  <p>3-Pack of 100% two-ply woven cotton Face Ma...\n",
       "\n",
       "[201 rows x 2 columns]"
      ]
     },
     "execution_count": 18,
     "metadata": {},
     "output_type": "execute_result"
    }
   ],
   "source": [
    "product_descriptions = data[[\"product_id\", \"product_description\"]]\n",
    "product_descriptions"
   ]
  },
  {
   "cell_type": "markdown",
   "id": "8ff33a55",
   "metadata": {},
   "source": [
    "Checking for missing values"
   ]
  },
  {
   "cell_type": "code",
   "execution_count": 19,
   "id": "a19af67a",
   "metadata": {},
   "outputs": [
    {
     "data": {
      "text/html": [
       "<div>\n",
       "<style scoped>\n",
       "    .dataframe tbody tr th:only-of-type {\n",
       "        vertical-align: middle;\n",
       "    }\n",
       "\n",
       "    .dataframe tbody tr th {\n",
       "        vertical-align: top;\n",
       "    }\n",
       "\n",
       "    .dataframe thead th {\n",
       "        text-align: right;\n",
       "    }\n",
       "</style>\n",
       "<table border=\"1\" class=\"dataframe\">\n",
       "  <thead>\n",
       "    <tr style=\"text-align: right;\">\n",
       "      <th></th>\n",
       "      <th>product_id</th>\n",
       "      <th>product_description</th>\n",
       "    </tr>\n",
       "  </thead>\n",
       "  <tbody>\n",
       "    <tr>\n",
       "      <th>0</th>\n",
       "      <td>4883749797993</td>\n",
       "      <td>&lt;p&gt;Soon to be a family favorite! It will make ...</td>\n",
       "    </tr>\n",
       "    <tr>\n",
       "      <th>1</th>\n",
       "      <td>6664046379113</td>\n",
       "      <td>&lt;p&gt;How perfect is this for all your upcoming H...</td>\n",
       "    </tr>\n",
       "    <tr>\n",
       "      <th>2</th>\n",
       "      <td>4883744391273</td>\n",
       "      <td>&lt;p&gt;Add a little extra fun to your little guy's...</td>\n",
       "    </tr>\n",
       "    <tr>\n",
       "      <th>3</th>\n",
       "      <td>4180856209513</td>\n",
       "      <td>&lt;p&gt;For the more formal events he has this fall...</td>\n",
       "    </tr>\n",
       "    <tr>\n",
       "      <th>4</th>\n",
       "      <td>4883744784489</td>\n",
       "      <td>&lt;p&gt;Surfs up! He will be so ready to hit the wa...</td>\n",
       "    </tr>\n",
       "  </tbody>\n",
       "</table>\n",
       "</div>"
      ],
      "text/plain": [
       "      product_id                                product_description\n",
       "0  4883749797993  <p>Soon to be a family favorite! It will make ...\n",
       "1  6664046379113  <p>How perfect is this for all your upcoming H...\n",
       "2  4883744391273  <p>Add a little extra fun to your little guy's...\n",
       "3  4180856209513  <p>For the more formal events he has this fall...\n",
       "4  4883744784489  <p>Surfs up! He will be so ready to hit the wa..."
      ]
     },
     "execution_count": 19,
     "metadata": {},
     "output_type": "execute_result"
    }
   ],
   "source": [
    "# Missing values\n",
    "\n",
    "product_descriptions = product_descriptions.dropna()\n",
    "product_descriptions.shape\n",
    "product_descriptions.head()"
   ]
  },
  {
   "cell_type": "code",
   "execution_count": 20,
   "id": "2816260e",
   "metadata": {},
   "outputs": [
    {
     "data": {
      "text/plain": [
       "0    <p>Soon to be a family favorite! It will make ...\n",
       "1    <p>How perfect is this for all your upcoming H...\n",
       "2    <p>Add a little extra fun to your little guy's...\n",
       "3    <p>For the more formal events he has this fall...\n",
       "4    <p>Surfs up! He will be so ready to hit the wa...\n",
       "5    <p>A Hacci set that is so soft and versatile, ...\n",
       "6    <p data-mce-fragment=\"1\">Get your girl ready f...\n",
       "7    <p>A super-soft getup that will have him ready...\n",
       "8    <h1>For Your Little Gentleman</h1>\\n<p>For the...\n",
       "9    <p>From starting a neighborhood snowball fight...\n",
       "Name: product_description, dtype: object"
      ]
     },
     "execution_count": 20,
     "metadata": {},
     "output_type": "execute_result"
    }
   ],
   "source": [
    "product_descriptions1 = product_descriptions.head(100)\n",
    "# product_descriptions1.iloc[:,1]\n",
    "\n",
    "product_descriptions1[\"product_description\"].head(10)"
   ]
  },
  {
   "cell_type": "markdown",
   "id": "5ddbfcf5",
   "metadata": {},
   "source": [
    "#### Feature extraction from product descriptions\n",
    "\n",
    "Converting the text in product description into numerical data for analysis"
   ]
  },
  {
   "cell_type": "code",
   "execution_count": 21,
   "id": "553f0f84",
   "metadata": {},
   "outputs": [
    {
     "data": {
      "text/plain": [
       "<100x939 sparse matrix of type '<class 'numpy.float64'>'\n",
       "\twith 4649 stored elements in Compressed Sparse Row format>"
      ]
     },
     "execution_count": 21,
     "metadata": {},
     "output_type": "execute_result"
    }
   ],
   "source": [
    "vectorizer = TfidfVectorizer(stop_words='english')\n",
    "X1 = vectorizer.fit_transform(product_descriptions1[\"product_description\"])\n",
    "X1"
   ]
  },
  {
   "cell_type": "markdown",
   "id": "dfe2cb80",
   "metadata": {},
   "source": [
    "### Visualizing product clusters in subset of data"
   ]
  },
  {
   "cell_type": "code",
   "execution_count": 22,
   "id": "b2dc06ca",
   "metadata": {},
   "outputs": [
    {
     "data": {
      "image/png": "[encoded data removed]",
      "text/plain": [
       "<Figure size 432x288 with 1 Axes>"
      ]
     },
     "metadata": {},
     "output_type": "display_data"
    }
   ],
   "source": [
    "# Fitting K-Means to the dataset\n",
    "\n",
    "X=X1\n",
    "\n",
    "kmeans = KMeans(n_clusters = 10, init = 'k-means++')\n",
    "y_kmeans = kmeans.fit_predict(X)\n",
    "plt.plot(y_kmeans, \".\")\n",
    "plt.show()"
   ]
  },
  {
   "cell_type": "markdown",
   "id": "cda236a7",
   "metadata": {},
   "source": [
    "### Top words in each cluster based on product description"
   ]
  },
  {
   "cell_type": "code",
   "execution_count": 23,
   "id": "f1a835f6",
   "metadata": {},
   "outputs": [
    {
     "name": "stdout",
     "output_type": "stream",
     "text": [
      "Top terms per cluster:\n",
      "Cluster 0:\n",
      " li\n",
      " super\n",
      " soft\n",
      " cool\n",
      " material\n",
      " adventures\n",
      " dude\n",
      " flat\n",
      " max\n",
      " feeling\n",
      "Cluster 1:\n",
      " li\n",
      " ul\n",
      " imported\n",
      " classic\n",
      " button\n",
      " cotton\n",
      " br\n",
      " medium\n",
      " cold\n",
      " machine\n",
      "Cluster 2:\n",
      " li\n",
      " faux\n",
      " fur\n",
      " polyester\n",
      " 100\n",
      " hood\n",
      " shiny\n",
      " polyeser\n",
      " gentle\n",
      " cycle\n",
      "Cluster 3:\n",
      " fragment\n",
      " mce\n",
      " data\n",
      " li\n",
      " span\n",
      " pom\n",
      " acrylic\n",
      " ul\n",
      " gingham\n",
      " designed\n",
      "Cluster 4:\n",
      " span\n",
      " font\n",
      " 400\n",
      " style\n",
      " weight\n",
      " tab\n",
      " div\n",
      " li\n",
      " segoe\n",
      " ui\n",
      "Cluster 5:\n",
      " li\n",
      " ul\n",
      " cotton\n",
      " dry\n",
      " pants\n",
      " sweater\n",
      " cool\n",
      " look\n",
      " super\n",
      " set\n",
      "Cluster 6:\n",
      " li\n",
      " protection\n",
      " shorts\n",
      " feel\n",
      " elements\n",
      " rash\n",
      " guard\n",
      " secure\n",
      " polyester\n",
      " board\n",
      "Cluster 7:\n",
      " li\n",
      " pants\n",
      " lining\n",
      " tortoise\n",
      " time\n",
      " tan\n",
      " hole\n",
      " flap\n",
      " happens\n",
      " born\n",
      "Cluster 8:\n",
      " strong\n",
      " mask\n",
      " filter\n",
      " li\n",
      " masks\n",
      " pack\n",
      " printed\n",
      " face\n",
      " span\n",
      " included\n",
      "Cluster 9:\n",
      " li\n",
      " sun\n",
      " matching\n",
      " line\n",
      " shade\n",
      " drawstring\n",
      " protection\n",
      " closure\n",
      " swim\n",
      " fitted\n"
     ]
    }
   ],
   "source": [
    "# # Optimal clusters is \n",
    "\n",
    "true_k = 10\n",
    "\n",
    "model = KMeans(n_clusters=true_k, init='k-means++', max_iter=100, n_init=1)\n",
    "model.fit(X1)\n",
    "\n",
    "print(\"Top terms per cluster:\")\n",
    "order_centroids = model.cluster_centers_.argsort()[:, ::-1]\n",
    "terms = vectorizer.get_feature_names()\n",
    "for i in range(true_k):\n",
    "    print(\"Cluster %d:\" % i),\n",
    "    for ind in order_centroids[i, :10]:\n",
    "        print(' %s' % terms[ind]),\n",
    "    print"
   ]
  },
  {
   "cell_type": "markdown",
   "id": "2b963c4a",
   "metadata": {},
   "source": [
    "### Predicting clusters based on key search words"
   ]
  },
  {
   "cell_type": "code",
   "execution_count": 24,
   "id": "8a325208",
   "metadata": {},
   "outputs": [
    {
     "name": "stdout",
     "output_type": "stream",
     "text": [
      "Cluster ID:\n",
      "[5]\n"
     ]
    }
   ],
   "source": [
    "# Sweaters\n",
    "print(\"Cluster ID:\")\n",
    "Y = vectorizer.transform([\"Sweaters\"])\n",
    "prediction = model.predict(Y)\n",
    "print(prediction)"
   ]
  },
  {
   "cell_type": "code",
   "execution_count": 25,
   "id": "11d93b7b",
   "metadata": {},
   "outputs": [
    {
     "name": "stdout",
     "output_type": "stream",
     "text": [
      "Cluster ID:\n",
      "[5]\n"
     ]
    }
   ],
   "source": [
    "# Boys Dino Camo Knit Shirt\n",
    "print(\"Cluster ID:\")\n",
    "Y = vectorizer.transform([\"Boys Dino Camo Knit Shirt\"])\n",
    "prediction = model.predict(Y)\n",
    "print(prediction)"
   ]
  },
  {
   "cell_type": "code",
   "execution_count": 26,
   "id": "54fda63f",
   "metadata": {},
   "outputs": [
    {
     "name": "stdout",
     "output_type": "stream",
     "text": [
      "Cluster ID:\n",
      "[2]\n"
     ]
    }
   ],
   "source": [
    "# bomber \n",
    "print(\"Cluster ID:\")\n",
    "Y = vectorizer.transform([\"bomber\"])\n",
    "prediction = model.predict(Y)\n",
    "print(prediction)"
   ]
  },
  {
   "cell_type": "markdown",
   "id": "dc6934d6",
   "metadata": {},
   "source": [
    "In case a word appears in multiple clusters, the algorithm chooses the cluster with the highest frequency of occurance of the word."
   ]
  },
  {
   "cell_type": "code",
   "execution_count": 27,
   "id": "d0f386f2",
   "metadata": {},
   "outputs": [
    {
     "name": "stdout",
     "output_type": "stream",
     "text": [
      "Cluster ID:\n",
      "[5]\n"
     ]
    }
   ],
   "source": [
    "# 100%  cotton\n",
    "print(\"Cluster ID:\")\n",
    "Y = vectorizer.transform([\"100%  cotton\"])\n",
    "prediction = model.predict(Y)\n",
    "print(prediction)"
   ]
  },
  {
   "cell_type": "code",
   "execution_count": 28,
   "id": "4e42d7b8",
   "metadata": {},
   "outputs": [
    {
     "name": "stdout",
     "output_type": "stream",
     "text": [
      "Cluster ID:\n",
      "[5]\n"
     ]
    }
   ],
   "source": [
    "# Boys Dino Camo Knit Shirt\n",
    "print(\"Cluster ID:\")\n",
    "Y = vectorizer.transform([\"Boys Dino Camo Knit Shirt\"])\n",
    "prediction = model.predict(Y)\n",
    "print(prediction)"
   ]
  },
  {
   "cell_type": "markdown",
   "id": "c09b15f7",
   "metadata": {},
   "source": [
    "Once a cluster is identified based on the user's search words, the recommendation system can display items from the corresponding product clusters based on the product descriptions.\n",
    "\n",
    "##### Summary:\n",
    "\n",
    "This works best if a business is setting up its e-commerce website for the first time and does not have user-item purchase/rating history to start with initally. This recommendation system will help the users get a good recommendation to start with and once the buyers have a purchased history, the recommendation engine can use the model based collaborative filtering technique."
   ]
  },
  {
   "cell_type": "code",
   "execution_count": null,
   "id": "69e3e50c",
   "metadata": {},
   "outputs": [],
   "source": []
  },
  {
   "cell_type": "code",
   "execution_count": null,
   "id": "fc45aa6f",
   "metadata": {},
   "outputs": [],
   "source": []
  },
  {
   "cell_type": "code",
   "execution_count": null,
   "id": "40aaa2f7",
   "metadata": {},
   "outputs": [],
   "source": []
  }
 ],
 "metadata": {
  "kernelspec": {
   "display_name": "Python 3 (ipykernel)",
   "language": "python",
   "name": "python3"
  },
  "language_info": {
   "codemirror_mode": {
    "name": "ipython",
    "version": 3
   },
   "file_extension": ".py",
   "mimetype": "text/x-python",
   "name": "python",
   "nbconvert_exporter": "python",
   "pygments_lexer": "ipython3",
   "version": "3.9.7"
  }
 },
 "nbformat": 4,
 "nbformat_minor": 5
}
